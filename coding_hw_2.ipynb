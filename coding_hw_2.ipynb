{
 "cells": [
  {
   "cell_type": "code",
   "execution_count": 96,
   "metadata": {},
   "outputs": [],
   "source": [
    "from torchvision.datasets import FashionMNIST\n",
    "from torchvision import transforms\n",
    "import torch.nn.functional as F\n",
    "import torch.nn as nn\n",
    "import numpy as np\n",
    "import torch"
   ]
  },
  {
   "cell_type": "code",
   "execution_count": 97,
   "metadata": {},
   "outputs": [],
   "source": [
    "xy_train = FashionMNIST('', train = True, transform = transforms.ToTensor())\n",
    "xy_test = FashionMNIST('', train = False, transform = transforms.ToTensor())"
   ]
  },
  {
   "cell_type": "code",
   "execution_count": 98,
   "metadata": {},
   "outputs": [],
   "source": [
    "loadertr=torch.utils.data.DataLoader(xy_train,batch_size=60,shuffle=True)\n",
    "loadertest=torch.utils.data.DataLoader(xy_test,batch_size=10,shuffle=False) "
   ]
  },
  {
   "cell_type": "code",
   "execution_count": 99,
   "metadata": {},
   "outputs": [],
   "source": [
    "class Net(nn.Module):\n",
    "    def __init__(self):\n",
    "        super(Net, self).__init__()\n",
    "        self.fc1 = nn.Linear(784, 300)\n",
    "        self.fc2 = nn.Linear(300, 100)\n",
    "        self.fc3 = nn.Linear(100, 10)\n",
    "\n",
    "    def forward(self, x):\n",
    "        x = F.relu(self.fc1(x))\n",
    "        x = F.relu(self.fc2(x))\n",
    "        x = self.fc3(x)\n",
    "        return F.log_softmax(x, dim=1)"
   ]
  },
  {
   "cell_type": "code",
   "execution_count": 100,
   "metadata": {},
   "outputs": [],
   "source": [
    "def train(model, device, train_loader, optimizer):\n",
    "    model.train()\n",
    "    for batch_idx, (data, target) in enumerate(train_loader):\n",
    "        \n",
    "        data, target = torch.reshape(data,(data.shape[0],784)).to(device), target.to(device)\n",
    "        optimizer.zero_grad()\n",
    "        output = model(data)\n",
    "        loss = F.nll_loss(output, target)\n",
    "        loss.backward()\n",
    "        optimizer.step()"
   ]
  },
  {
   "cell_type": "code",
   "execution_count": 121,
   "metadata": {},
   "outputs": [],
   "source": [
    "def test(model, device, test_loader, oldparams, oldloss):\n",
    "    model.eval()\n",
    "    test_loss = 0\n",
    "    correct = 0\n",
    "    correct_list = [0 for x in range(10)]\n",
    "    with torch.no_grad():\n",
    "        for data, target in test_loader:\n",
    "            data, target = torch.reshape(data,(data.shape[0],784)).to(device), target.to(device)\n",
    "            output = model(data)\n",
    "            test_loss += F.nll_loss(output, target, reduction='sum').item() # sum up batch loss\n",
    "            pred = output.argmax(dim=1, keepdim=True) # get the index of the max log-probability\n",
    "            correct += pred.eq(target.view_as(pred)).sum().item()\n",
    "            for t, p in zip(target.view(-1), pred.view(-1)):\n",
    "                if t.data==p.data:\n",
    "                    correct_list[t] += 1 \n",
    "    test_loss /= len(test_loader.dataset)\n",
    "\n",
    "    print('\\nTest set: Average loss: {:.4f}, Accuracy: {}/{} ({:.0f}%)\\n'.format(\n",
    "        test_loss, correct, len(test_loader.dataset),\n",
    "        100. * correct / len(test_loader.dataset)))\n",
    "    print (correct_list)\n",
    "    if test_loss < oldloss:\n",
    "        return model.state_dict(), test_loss\n",
    "    else:\n",
    "        return oldparams, oldloss"
   ]
  },
  {
   "cell_type": "code",
   "execution_count": 122,
   "metadata": {},
   "outputs": [],
   "source": [
    "epochs = 12\n",
    "learningrate = 0.01\n",
    "device = torch.device('cpu')\n",
    "\n",
    "model = Net()\n",
    "optimizer=torch.optim.SGD(model.parameters(),lr=learningrate, momentum=0.0, weight_decay=0)\n",
    "oldparams = model.state_dict()\n",
    "oldloss = float('inf')"
   ]
  },
  {
   "cell_type": "code",
   "execution_count": 123,
   "metadata": {},
   "outputs": [
    {
     "name": "stdout",
     "output_type": "stream",
     "text": [
      "\n",
      "Test set: Average loss: 0.8157, Accuracy: 6921/10000 (69%)\n",
      "\n",
      "[779, 915, 578, 812, 653, 322, 133, 878, 922, 929]\n",
      "\n",
      "Test set: Average loss: 0.6607, Accuracy: 7558/10000 (76%)\n",
      "\n",
      "[832, 934, 761, 824, 550, 798, 133, 842, 935, 949]\n",
      "\n",
      "Test set: Average loss: 0.5732, Accuracy: 7967/10000 (80%)\n",
      "\n",
      "[825, 949, 694, 815, 814, 866, 280, 857, 925, 942]\n",
      "\n",
      "Test set: Average loss: 0.5348, Accuracy: 8105/10000 (81%)\n",
      "\n",
      "[798, 944, 736, 874, 784, 891, 321, 882, 944, 931]\n",
      "\n",
      "Test set: Average loss: 0.5161, Accuracy: 8169/10000 (82%)\n",
      "\n",
      "[858, 947, 668, 865, 833, 887, 351, 872, 936, 952]\n",
      "\n",
      "Test set: Average loss: 0.4971, Accuracy: 8193/10000 (82%)\n",
      "\n",
      "[858, 945, 633, 854, 666, 906, 563, 909, 934, 925]\n",
      "\n",
      "Test set: Average loss: 0.4967, Accuracy: 8162/10000 (82%)\n",
      "\n",
      "[670, 945, 670, 876, 636, 921, 691, 862, 938, 953]\n",
      "\n",
      "Test set: Average loss: 0.4674, Accuracy: 8354/10000 (84%)\n",
      "\n",
      "[767, 960, 763, 853, 755, 915, 547, 915, 943, 936]\n",
      "\n",
      "Test set: Average loss: 0.4640, Accuracy: 8375/10000 (84%)\n",
      "\n",
      "[855, 949, 793, 879, 726, 947, 455, 909, 936, 926]\n",
      "\n",
      "Test set: Average loss: 0.4575, Accuracy: 8389/10000 (84%)\n",
      "\n",
      "[836, 951, 800, 878, 610, 936, 577, 915, 946, 940]\n",
      "\n",
      "Test set: Average loss: 0.4428, Accuracy: 8427/10000 (84%)\n",
      "\n",
      "[843, 955, 684, 867, 740, 939, 600, 911, 944, 944]\n",
      "\n",
      "Test set: Average loss: 0.4459, Accuracy: 8443/10000 (84%)\n",
      "\n",
      "[811, 957, 713, 867, 852, 921, 490, 935, 953, 944]\n"
     ]
    }
   ],
   "source": [
    "for x in range(epochs):\n",
    "    train(model, device, loadertr, optimizer)\n",
    "    oldparams, oldloss = test(model, device, loadertest, oldparams, oldloss)"
   ]
  },
  {
   "cell_type": "code",
   "execution_count": 104,
   "metadata": {},
   "outputs": [
    {
     "data": {
      "text/plain": [
       "0.4335938627243042"
      ]
     },
     "execution_count": 104,
     "metadata": {},
     "output_type": "execute_result"
    }
   ],
   "source": [
    "oldloss"
   ]
  },
  {
   "cell_type": "code",
   "execution_count": 105,
   "metadata": {},
   "outputs": [],
   "source": [
    "torch.save(model.state_dict(), 'model_state.json')"
   ]
  },
  {
   "cell_type": "code",
   "execution_count": 106,
   "metadata": {},
   "outputs": [
    {
     "name": "stdout",
     "output_type": "stream",
     "text": [
      "\n",
      "Test set: Average loss: 0.4622, Accuracy: 8365/10000 (84%)\n",
      "\n"
     ]
    }
   ],
   "source": [
    "model = Net()\n",
    "model.load_state_dict(torch.load('model_state.txt'))\n",
    "model.eval()\n",
    "oldparams, oldloss = test(model, device, loadertest, oldparams, oldloss)"
   ]
  },
  {
   "cell_type": "code",
   "execution_count": null,
   "metadata": {},
   "outputs": [],
   "source": []
  }
 ],
 "metadata": {
  "kernelspec": {
   "display_name": "ml",
   "language": "python",
   "name": "ml"
  },
  "language_info": {
   "codemirror_mode": {
    "name": "ipython",
    "version": 3
   },
   "file_extension": ".py",
   "mimetype": "text/x-python",
   "name": "python",
   "nbconvert_exporter": "python",
   "pygments_lexer": "ipython3",
   "version": "3.6.7"
  }
 },
 "nbformat": 4,
 "nbformat_minor": 2
}
