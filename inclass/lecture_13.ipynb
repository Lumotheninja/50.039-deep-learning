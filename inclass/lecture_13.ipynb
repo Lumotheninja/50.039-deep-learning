{
 "cells": [
  {
   "cell_type": "code",
   "execution_count": 5,
   "metadata": {},
   "outputs": [],
   "source": [
    "import torchvision.models as models\n",
    "import torchvision.transforms as transforms\n",
    "import torch.nn.functional as F\n",
    "import torch\n",
    "import os\n",
    "from PIL import Image\n",
    "import matplotlib.pyplot as plt\n",
    "\n",
    "model = models.resnet18(pretrained=True)\n"
   ]
  },
  {
   "cell_type": "code",
   "execution_count": 78,
   "metadata": {},
   "outputs": [
    {
     "name": "stdout",
     "output_type": "stream",
     "text": [
      "tensor([443])\n",
      "tensor([443])\n",
      "tensor([549])\n",
      "tensor([549])\n",
      "tensor([921])\n",
      "tensor([921])\n",
      "tensor([921])\n",
      "tensor([921])\n",
      "tensor([405])\n",
      "tensor([405])\n",
      "tensor([405])\n",
      "tensor([405])\n",
      "tensor([229])\n"
     ]
    }
   ],
   "source": [
    "model.eval()\n",
    "mr_shout = Image.open('cdHjrlTW.jpeg')\n",
    "\n",
    "lr = 0.01\n",
    "data = transforms.Compose([transforms.Resize(size=224), transforms.CenterCrop(224), transforms.ToTensor()])(mr_shout).unsqueeze(dim=0)\n",
    "\n",
    "while True:\n",
    "    data.requires_grad = True\n",
    "    output = model(data)\n",
    "    pred = output.argmax(dim = 1)\n",
    "    print (pred)\n",
    "    if pred == 229:\n",
    "        break\n",
    "    output[:,229].backward()\n",
    "    temp_data = (data + lr*data.grad).data\n",
    "    mask = 1- (temp_data > 1)\n",
    "    mask_grad = torch.mul(data.grad.float(), mask.float())\n",
    "    data.data += lr*mask_grad\n",
    "\n",
    "img = data.squeeze().detach().numpy().swapaxes(0,2).swapaxes(1,0)\n",
    "img = Image.fromarray((img* 255).astype('uint8'), 'RGB')\n",
    "img.show()"
   ]
  },
  {
   "cell_type": "code",
   "execution_count": null,
   "metadata": {},
   "outputs": [],
   "source": []
  }
 ],
 "metadata": {
  "kernelspec": {
   "display_name": "ml",
   "language": "python",
   "name": "ml"
  },
  "language_info": {
   "codemirror_mode": {
    "name": "ipython",
    "version": 3
   },
   "file_extension": ".py",
   "mimetype": "text/x-python",
   "name": "python",
   "nbconvert_exporter": "python",
   "pygments_lexer": "ipython3",
   "version": "3.6.7"
  }
 },
 "nbformat": 4,
 "nbformat_minor": 2
}
