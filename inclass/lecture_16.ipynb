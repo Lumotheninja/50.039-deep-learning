{
 "cells": [
  {
   "cell_type": "code",
   "execution_count": 28,
   "metadata": {},
   "outputs": [
    {
     "name": "stdout",
     "output_type": "stream",
     "text": [
      "(3, 224, 224)\n",
      "<class 'numpy.ndarray'>\n",
      "label 282\n",
      "predicted class 282\n",
      "adversarial class 281\n"
     ]
    }
   ],
   "source": [
    "import foolbox\n",
    "import torch\n",
    "import torchvision.models as models\n",
    "import numpy as np\n",
    "from PIL import Image\n",
    "\n",
    "# instantiate the model\n",
    "resnet18 = models.resnet18(pretrained=True).eval()\n",
    "mean = np.array([0.485, 0.456, 0.406]).reshape((3, 1, 1))\n",
    "std = np.array([0.229, 0.224, 0.225]).reshape((3, 1, 1))\n",
    "fmodel = foolbox.models.PyTorchModel(\n",
    "    resnet18, bounds=(0, 1), num_classes=1000, preprocessing=(mean, std))\n",
    "\n",
    "# get source image and label\n",
    "image, label = foolbox.utils.imagenet_example(data_format='channels_first')\n",
    "print (image.shape)\n",
    "print(type(image))\n",
    "ori_image = Image.fromarray(np.uint8(image.swapaxes(0,2).swapaxes(0,1)))\n",
    "ori_image.show()\n",
    "image = image / 255.  # because our model expects values in [0, 1]\n",
    "\n",
    "print('label', label)\n",
    "print('predicted class', np.argmax(fmodel.predictions(image)))\n",
    "\n",
    "# apply attack on source image\n",
    "attack = foolbox.attacks.FGSM(fmodel)\n",
    "adversarial = attack(image, label)\n",
    "\n",
    "print('adversarial class', np.argmax(fmodel.predictions(adversarial)))\n",
    "Image.fromarray(np.uint8(adversarial.swapaxes(0,2).swapaxes(0,1) * 255)).show()\n",
    "diff = np.abs(image-adversarial)\n",
    "diff = diff / np.max(diff)\n",
    "Image.fromarray(np.uint8(diff.swapaxes(0,2).swapaxes(0,1) * 255)).show()"
   ]
  },
  {
   "cell_type": "code",
   "execution_count": null,
   "metadata": {},
   "outputs": [],
   "source": []
  }
 ],
 "metadata": {
  "kernelspec": {
   "display_name": "ml",
   "language": "python",
   "name": "ml"
  },
  "language_info": {
   "codemirror_mode": {
    "name": "ipython",
    "version": 3
   },
   "file_extension": ".py",
   "mimetype": "text/x-python",
   "name": "python",
   "nbconvert_exporter": "python",
   "pygments_lexer": "ipython3",
   "version": "3.6.7"
  }
 },
 "nbformat": 4,
 "nbformat_minor": 2
}
