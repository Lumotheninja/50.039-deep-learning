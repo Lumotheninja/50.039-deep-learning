{
 "cells": [
  {
   "cell_type": "markdown",
   "metadata": {},
   "source": [
    "# Lecture 6"
   ]
  },
  {
   "cell_type": "code",
   "execution_count": 9,
   "metadata": {},
   "outputs": [
    {
     "data": {
      "text/plain": [
       "tensor([0.], dtype=torch.float64)"
      ]
     },
     "execution_count": 9,
     "metadata": {},
     "output_type": "execute_result"
    }
   ],
   "source": [
    "import numpy as np\n",
    "\n",
    "x = torch.tensor(np.array([1.0]))\n",
    "x.requires_grad = True\n",
    "y = 3 - 2*x**2 + x**4\n",
    "y.backward()\n",
    "x.grad.data"
   ]
  },
  {
   "cell_type": "code",
   "execution_count": 16,
   "metadata": {},
   "outputs": [
    {
     "data": {
      "text/plain": [
       "tensor([[4.],\n",
       "        [6.]], dtype=torch.float64)"
      ]
     },
     "execution_count": 16,
     "metadata": {},
     "output_type": "execute_result"
    }
   ],
   "source": [
    "import numpy as np\n",
    "\n",
    "x = torch.tensor(np.array([[1.0], [1.0]]))\n",
    "A = torch.tensor(np.array([[2.0, -1.0],[1.0, 3.0]]))\n",
    "x.requires_grad = True\n",
    "\n",
    "y = torch.mm(torch.mm(torch.transpose(x,0,1), A), x)\n",
    "y.backward()\n",
    "x.grad.data"
   ]
  },
  {
   "cell_type": "code",
   "execution_count": 17,
   "metadata": {},
   "outputs": [
    {
     "data": {
      "text/plain": [
       "tensor([[ 1.,  2.],\n",
       "        [-1., -2.]], dtype=torch.float64)"
      ]
     },
     "execution_count": 17,
     "metadata": {},
     "output_type": "execute_result"
    }
   ],
   "source": [
    "import numpy as np\n",
    "\n",
    "x = torch.tensor(np.array([[1.0, 1.0], [1.0, 1.0]]))\n",
    "u = torch.tensor(np.array([[1.0],[-1.0]]))\n",
    "v = torch.tensor(np.array([[1.0],[2.0]]))\n",
    "x.requires_grad = True\n",
    "\n",
    "y = torch.mm(torch.mm(torch.transpose(u,1,0),x),v)\n",
    "y.backward()\n",
    "x.grad.data"
   ]
  },
  {
   "cell_type": "code",
   "execution_count": null,
   "metadata": {},
   "outputs": [],
   "source": []
  }
 ],
 "metadata": {
  "kernelspec": {
   "display_name": "Python 3",
   "language": "python",
   "name": "python3"
  },
  "language_info": {
   "codemirror_mode": {
    "name": "ipython",
    "version": 3
   },
   "file_extension": ".py",
   "mimetype": "text/x-python",
   "name": "python",
   "nbconvert_exporter": "python",
   "pygments_lexer": "ipython3",
   "version": "3.6.7"
  }
 },
 "nbformat": 4,
 "nbformat_minor": 2
}
